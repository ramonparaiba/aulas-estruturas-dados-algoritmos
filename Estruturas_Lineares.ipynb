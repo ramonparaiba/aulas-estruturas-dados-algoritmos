{
  "nbformat": 4,
  "nbformat_minor": 0,
  "metadata": {
    "colab": {
      "provenance": [],
      "authorship_tag": "ABX9TyNRVY4NPg3XNdk3fkwY8b0T",
      "include_colab_link": true
    },
    "kernelspec": {
      "name": "python3",
      "display_name": "Python 3"
    },
    "language_info": {
      "name": "python"
    }
  },
  "cells": [
    {
      "cell_type": "markdown",
      "metadata": {
        "id": "view-in-github",
        "colab_type": "text"
      },
      "source": [
        "<a href=\"https://colab.research.google.com/github/ramonparaiba/aulas-estruturas-dados-algoritmos/blob/main/Estruturas_Lineares.ipynb\" target=\"_parent\"><img src=\"https://colab.research.google.com/assets/colab-badge.svg\" alt=\"Open In Colab\"/></a>"
      ]
    },
    {
      "cell_type": "code",
      "execution_count": null,
      "metadata": {
        "id": "0fMhADtSZQD0"
      },
      "outputs": [],
      "source": []
    },
    {
      "cell_type": "markdown",
      "source": [
        "## Listas\n",
        "\n",
        "##Pseudocódigo\n",
        "\n",
        "```\n",
        "INÍCIO\n",
        "  CRIAR lista NOMES com [\"Ana\", \"Bruno\", \"Carlos\", \"Diana\", \"Eduardo\"]\n",
        "  ESCREVER \"O terceiro nome é: \" + NOMES[2]\n",
        "FIM\n",
        "```\n",
        "\n",
        "\n"
      ],
      "metadata": {
        "id": "USr1OcIsZdu0"
      }
    },
    {
      "cell_type": "code",
      "source": [
        "#Criação\n",
        "lista = [1, 2, 3, 4]\n",
        "lista"
      ],
      "metadata": {
        "id": "J6_uDj4ijpZM",
        "colab": {
          "base_uri": "https://localhost:8080/"
        },
        "outputId": "a3c4cf9f-1bf5-4e6a-fad9-172f2b2db26b"
      },
      "execution_count": 54,
      "outputs": [
        {
          "output_type": "execute_result",
          "data": {
            "text/plain": [
              "[1, 2, 3, 4]"
            ]
          },
          "metadata": {},
          "execution_count": 54
        }
      ]
    },
    {
      "cell_type": "code",
      "source": [
        "#lista vazia\n",
        "lista_vazia = []\n",
        "print(type(lista_vazia))"
      ],
      "metadata": {
        "colab": {
          "base_uri": "https://localhost:8080/"
        },
        "id": "COugULs4AUk-",
        "outputId": "70c2e4cf-61d9-40fa-8fd3-937d5107723d"
      },
      "execution_count": 14,
      "outputs": [
        {
          "output_type": "stream",
          "name": "stdout",
          "text": [
            "<class 'list'>\n"
          ]
        }
      ]
    },
    {
      "cell_type": "code",
      "source": [
        "#acessar dados\n",
        "print(lista[0])\n",
        "print(lista[2])\n",
        "print(lista[3])\n",
        "\n",
        "#acessar o último dado da lista\n",
        "print(lista[-1])\n",
        "\n"
      ],
      "metadata": {
        "id": "TcHGI85cA3_P"
      },
      "execution_count": null,
      "outputs": []
    },
    {
      "cell_type": "code",
      "source": [
        "#inserção append\n",
        "lista.append(9)\n",
        "\n",
        "print(lista)"
      ],
      "metadata": {
        "colab": {
          "base_uri": "https://localhost:8080/"
        },
        "id": "HOD8TcC6BqAt",
        "outputId": "380f2655-eb9d-4bd5-d45c-c968132f8fde"
      },
      "execution_count": 56,
      "outputs": [
        {
          "output_type": "stream",
          "name": "stdout",
          "text": [
            "[1, 2, 3, 4, 9, 9]\n"
          ]
        }
      ]
    },
    {
      "cell_type": "code",
      "source": [
        "#inserir em posição específica\n",
        "\n",
        "lista.insert(2, 7)\n",
        "print(lista)"
      ],
      "metadata": {
        "colab": {
          "base_uri": "https://localhost:8080/"
        },
        "id": "4TX74qxbCc98",
        "outputId": "4187e3e2-280a-4498-b267-9a89e2219b28"
      },
      "execution_count": 57,
      "outputs": [
        {
          "output_type": "stream",
          "name": "stdout",
          "text": [
            "[1, 2, 7, 3, 4, 9, 9]\n"
          ]
        }
      ]
    },
    {
      "cell_type": "code",
      "source": [
        "#inserir multiplos elementos\n",
        "lista.extend([10, 11, 12])\n",
        "print(lista)"
      ],
      "metadata": {
        "colab": {
          "base_uri": "https://localhost:8080/"
        },
        "id": "tRSDjKjXCtGt",
        "outputId": "8a632ae7-c205-4985-a0ec-8ea46943f635"
      },
      "execution_count": 58,
      "outputs": [
        {
          "output_type": "stream",
          "name": "stdout",
          "text": [
            "[1, 2, 7, 3, 4, 9, 9, 10, 11, 12]\n"
          ]
        }
      ]
    },
    {
      "cell_type": "code",
      "source": [
        "#Remover elementos por valor\n",
        "lista.remove(9)"
      ],
      "metadata": {
        "id": "ywTIv8GoC7lq"
      },
      "execution_count": 27,
      "outputs": []
    },
    {
      "cell_type": "code",
      "source": [
        "#remover elementos pelo ultimo valor\n",
        "\n",
        "lista.pop()"
      ],
      "metadata": {
        "colab": {
          "base_uri": "https://localhost:8080/"
        },
        "id": "posK1D4YDnIp",
        "outputId": "ccea4174-f033-4705-c1df-bae4c177fc49"
      },
      "execution_count": 29,
      "outputs": [
        {
          "output_type": "execute_result",
          "data": {
            "text/plain": [
              "12"
            ]
          },
          "metadata": {},
          "execution_count": 29
        }
      ]
    },
    {
      "cell_type": "code",
      "source": [
        "#remover pelo indice\n",
        "lista.pop(1)"
      ],
      "metadata": {
        "colab": {
          "base_uri": "https://localhost:8080/"
        },
        "id": "SF8We4sQD_Dw",
        "outputId": "fdd880e8-3491-47c3-bc26-f45517e1cb57"
      },
      "execution_count": 31,
      "outputs": [
        {
          "output_type": "execute_result",
          "data": {
            "text/plain": [
              "2"
            ]
          },
          "metadata": {},
          "execution_count": 31
        }
      ]
    },
    {
      "cell_type": "code",
      "source": [
        "print(lista)"
      ],
      "metadata": {
        "colab": {
          "base_uri": "https://localhost:8080/"
        },
        "id": "yBB1LKIKD57u",
        "outputId": "09dcdbd9-dd78-4192-e581-914c9583ab29"
      },
      "execution_count": 32,
      "outputs": [
        {
          "output_type": "stream",
          "name": "stdout",
          "text": [
            "[1, 7, 3, 4, 10, 11]\n"
          ]
        }
      ]
    },
    {
      "cell_type": "code",
      "source": [
        "#limpa a lista inteira\n",
        "lista.clear()\n",
        "\n",
        "print(lista)"
      ],
      "metadata": {
        "colab": {
          "base_uri": "https://localhost:8080/"
        },
        "id": "JkysGEQaEPNa",
        "outputId": "475d794e-1ba7-41d2-c46b-af63a44b9715"
      },
      "execution_count": 34,
      "outputs": [
        {
          "output_type": "stream",
          "name": "stdout",
          "text": [
            "[]\n"
          ]
        }
      ]
    },
    {
      "cell_type": "code",
      "source": [
        "print(lista)"
      ],
      "metadata": {
        "colab": {
          "base_uri": "https://localhost:8080/"
        },
        "id": "ZzfmLq27Eu6X",
        "outputId": "78acc312-78e8-4d07-8da4-344a786e78e4"
      },
      "execution_count": 45,
      "outputs": [
        {
          "output_type": "stream",
          "name": "stdout",
          "text": [
            "[1, 2, 7, 3, 4, 9, 10, 11, 12, 9, 9]\n"
          ]
        }
      ]
    },
    {
      "cell_type": "code",
      "source": [
        "#Outros métodos úteis\n",
        "#Obter índice de valor\n",
        "print(lista.index(7))"
      ],
      "metadata": {
        "colab": {
          "base_uri": "https://localhost:8080/"
        },
        "id": "B_VKlOsxEZmq",
        "outputId": "a9c9eba9-d114-4265-d0b3-8ad8fb3266a2"
      },
      "execution_count": 41,
      "outputs": [
        {
          "output_type": "stream",
          "name": "stdout",
          "text": [
            "2\n"
          ]
        }
      ]
    },
    {
      "cell_type": "code",
      "source": [
        "#contar quantas vezes um elemento aparece na lista\n",
        "print(lista.count(9))"
      ],
      "metadata": {
        "colab": {
          "base_uri": "https://localhost:8080/"
        },
        "id": "G_lQPOk6E1-D",
        "outputId": "e72193f5-df46-41f8-d3d6-2a3f62436f7b"
      },
      "execution_count": 46,
      "outputs": [
        {
          "output_type": "stream",
          "name": "stdout",
          "text": [
            "3\n"
          ]
        }
      ]
    },
    {
      "cell_type": "code",
      "source": [
        "#Ordenação\n",
        "lista.sort()\n",
        "print(lista)"
      ],
      "metadata": {
        "colab": {
          "base_uri": "https://localhost:8080/"
        },
        "id": "bC8pUlJMFDOh",
        "outputId": "409564a4-b191-473f-8d36-458e6f025362"
      },
      "execution_count": 61,
      "outputs": [
        {
          "output_type": "stream",
          "name": "stdout",
          "text": [
            "[1, 2, 3, 4, 7, 9, 9, 10, 11, 12]\n"
          ]
        }
      ]
    },
    {
      "cell_type": "code",
      "source": [
        "#Inverter a ordem\n",
        "lista.reverse()\n",
        "print(lista)"
      ],
      "metadata": {
        "colab": {
          "base_uri": "https://localhost:8080/"
        },
        "id": "R12EjvJEFsFQ",
        "outputId": "168e1740-0ea2-45f9-a9e0-abcba1ece732"
      },
      "execution_count": 62,
      "outputs": [
        {
          "output_type": "stream",
          "name": "stdout",
          "text": [
            "[12, 11, 10, 9, 9, 7, 4, 3, 2, 1]\n"
          ]
        }
      ]
    },
    {
      "cell_type": "code",
      "source": [
        "#Tamanho\n",
        "len(lista)"
      ],
      "metadata": {
        "colab": {
          "base_uri": "https://localhost:8080/"
        },
        "id": "W7SFW_y3Fe3N",
        "outputId": "a603a3b7-5235-42e2-9d9a-d7ea33e16ad6"
      },
      "execution_count": 63,
      "outputs": [
        {
          "output_type": "execute_result",
          "data": {
            "text/plain": [
              "10"
            ]
          },
          "metadata": {},
          "execution_count": 63
        }
      ]
    },
    {
      "cell_type": "markdown",
      "source": [
        "## Pilhas\n",
        "##Pseudocódigo\n",
        "\n",
        "\n",
        "```\n",
        "INÍCIO\n",
        "  CRIAR pilha VAZIA\n",
        "  EMPILHAR \"Escreveu 'Olá'\"\n",
        "  EMPILHAR \"Adicionou ponto final\"\n",
        "  EMPILHAR \"Escreveu 'Mundo'\"\n",
        "\n",
        "  ESCREVER pilha  // mostra estado atual\n",
        "\n",
        "  DESFAZER = DESEMPILHAR()\n",
        "  ESCREVER \"Desfazer: \" + DESFAZER\n",
        "\n",
        "  DESFAZER = DESEMPILHAR()\n",
        "  ESCREVER \"Desfazer: \" + DESFAZER\n",
        "\n",
        "  ESCREVER pilha  // estado final\n",
        "FIM\n",
        "\n",
        "\n",
        "```\n",
        "\n"
      ],
      "metadata": {
        "id": "x3MEWWcDcAhj"
      }
    },
    {
      "cell_type": "code",
      "source": [
        "#Criar uma classe Pilha\n",
        "class Pilha:\n",
        "  def __init__(self):\n",
        "    self.itens = []\n",
        "\n",
        "  def empilhar(self, item):\n",
        "    self.itens.append(item)\n",
        "\n",
        "  def desempilhar(self):\n",
        "    if not self.esta_vazia():\n",
        "      return self.itens.pop()\n",
        "    return None\n",
        "\n",
        "  def esta_vazia(self):\n",
        "    return len(self.itens) == 0\n",
        "\n",
        "  def topo(self):\n",
        "    if not self.esta_vazia():\n",
        "      return self.itens[-1]\n",
        "    return None\n",
        "\n",
        "  def tamanho(self):\n",
        "    return len(self.itens)\n"
      ],
      "metadata": {
        "id": "QdJHVJhCcQmN"
      },
      "execution_count": 64,
      "outputs": []
    },
    {
      "cell_type": "code",
      "source": [
        "#Implementação da Pilha\n",
        "pilha = Pilha()\n",
        "\n",
        "print(pilha.itens)\n",
        "\n",
        "pilha.empilhar(5)\n",
        "pilha.empilhar(3)\n",
        "pilha.empilhar(4)\n",
        "\n",
        "print(pilha.itens)\n",
        "\n",
        "print(pilha.topo())\n",
        "print(pilha.desempilhar())\n",
        "\n",
        "print(pilha.itens)\n",
        "print(pilha.tamanho())\n"
      ],
      "metadata": {
        "id": "HZOFrFKNddEW",
        "colab": {
          "base_uri": "https://localhost:8080/"
        },
        "outputId": "64770d8e-577c-49f0-e2bf-9825a2f3e7ad"
      },
      "execution_count": 73,
      "outputs": [
        {
          "output_type": "stream",
          "name": "stdout",
          "text": [
            "[]\n",
            "[5, 3, 4]\n",
            "4\n",
            "4\n",
            "[5, 3]\n",
            "2\n"
          ]
        }
      ]
    },
    {
      "cell_type": "markdown",
      "source": [
        "## Filas\n",
        "##Pseudocódigo\n",
        "\n",
        "\n",
        "```\n",
        "INÍCIO\n",
        "  CRIAR fila com [\"Cliente1\", \"Cliente2\", \"Cliente3\", \"Cliente4\", \"Cliente5\"]\n",
        "\n",
        "  ENQUANTO fila NÃO ESTIVER VAZIA FAÇA\n",
        "      CLIENTE = RETIRAR_DO_INÍCIO(fila)\n",
        "      ESCREVER \"Atendendo: \" + CLIENTE\n",
        "  FIM_ENQUANTO\n",
        "\n",
        "  ESCREVER \"Fila vazia, todos foram atendidos!\"\n",
        "FIM\n",
        "```\n",
        "\n"
      ],
      "metadata": {
        "id": "7hsBq2e2cR-c"
      }
    },
    {
      "cell_type": "code",
      "source": [],
      "metadata": {
        "id": "7af2iImtdOXJ"
      },
      "execution_count": null,
      "outputs": []
    },
    {
      "cell_type": "markdown",
      "source": [
        "## Conjuntos\n",
        "##Pseudocódigo\n",
        "\n",
        "\n",
        "```\n",
        "INÍCIO\n",
        "  TURMA_A = [\"Ana\", \"Bruno\", \"Carlos\", \"Diana\"]\n",
        "  TURMA_B = [\"Carlos\", \"Diana\", \"Eduardo\", \"Fernanda\"]\n",
        "\n",
        "  CONJUNTO_A = CONVERTER_PARA_CONJUNTO(TURMA_A)\n",
        "  CONJUNTO_B = CONVERTER_PARA_CONJUNTO(TURMA_B)\n",
        "\n",
        "  COMUNS = INTERSEÇÃO(CONJUNTO_A, CONJUNTO_B)\n",
        "\n",
        "  ESCREVER \"Alunos em comum: \" + COMUNS\n",
        "FIM\n",
        "```\n",
        "\n"
      ],
      "metadata": {
        "id": "G7ojfEx3cb9g"
      }
    },
    {
      "cell_type": "code",
      "source": [
        "#Criar conjuntos\n",
        "conjunto_A = {1, 2, 3, 4, 5}\n",
        "conjunto_B = {4, 5, 6, 7, 8}"
      ],
      "metadata": {
        "id": "s-ov35fedO6u"
      },
      "execution_count": 74,
      "outputs": []
    },
    {
      "cell_type": "code",
      "source": [
        "# A união B\n",
        "uniao = conjunto_A | conjunto_B\n",
        "print('União:', uniao)"
      ],
      "metadata": {
        "colab": {
          "base_uri": "https://localhost:8080/"
        },
        "id": "MeIvdNavJ7qv",
        "outputId": "08c4e675-dcd9-4df0-987b-1805112774da"
      },
      "execution_count": 75,
      "outputs": [
        {
          "output_type": "stream",
          "name": "stdout",
          "text": [
            "União: {1, 2, 3, 4, 5, 6, 7, 8}\n"
          ]
        }
      ]
    },
    {
      "cell_type": "code",
      "source": [
        "#interseção\n",
        "intersecao = conjunto_A & conjunto_B\n",
        "print('interseção:', intersecao)\n"
      ],
      "metadata": {
        "colab": {
          "base_uri": "https://localhost:8080/"
        },
        "id": "2JVlvZimKauX",
        "outputId": "c671e9f2-0c1a-4119-b9d7-77a98bb07d50"
      },
      "execution_count": 76,
      "outputs": [
        {
          "output_type": "stream",
          "name": "stdout",
          "text": [
            "interseção: {4, 5}\n"
          ]
        }
      ]
    },
    {
      "cell_type": "code",
      "source": [
        "#Diferença\n",
        "diferenca = conjunto_A - conjunto_B\n",
        "print('Diferença:', diferenca)"
      ],
      "metadata": {
        "colab": {
          "base_uri": "https://localhost:8080/"
        },
        "id": "k0vHQyNvKq0N",
        "outputId": "2016924c-81e3-4ad8-cc15-31402feab912"
      },
      "execution_count": 77,
      "outputs": [
        {
          "output_type": "stream",
          "name": "stdout",
          "text": [
            "Diferença: {1, 2, 3}\n"
          ]
        }
      ]
    }
  ]
}