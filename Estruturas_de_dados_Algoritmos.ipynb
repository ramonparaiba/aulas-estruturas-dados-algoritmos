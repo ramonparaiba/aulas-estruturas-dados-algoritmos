{
  "cells": [
    {
      "cell_type": "markdown",
      "metadata": {
        "id": "view-in-github",
        "colab_type": "text"
      },
      "source": [
        "<a href=\"https://colab.research.google.com/github/ramonparaiba/aulas-estruturas-dados-algoritmos/blob/main/Estruturas_de_dados_Algoritmos.ipynb\" target=\"_parent\"><img src=\"https://colab.research.google.com/assets/colab-badge.svg\" alt=\"Open In Colab\"/></a>"
      ]
    },
    {
      "cell_type": "code",
      "execution_count": null,
      "metadata": {
        "id": "xjLzA9Mel0io"
      },
      "outputs": [],
      "source": [
        "#Busca em lista\n",
        "\n",
        "numeros = [1, 2, 3, 4, 5, 6, 7, 8]\n",
        "\n",
        "def buscaNumeroValor(numero, lista):\n",
        "  for num in lista:\n",
        "    if num == numero:\n",
        "      return 'Existe'\n",
        "  return None\n",
        "\n",
        "def buscaNumeroIndice(numero, lista):\n",
        "  if numero in lista:\n",
        "    return lista.index(numero)\n",
        "  else: return None"
      ]
    },
    {
      "cell_type": "code",
      "execution_count": null,
      "metadata": {
        "colab": {
          "base_uri": "https://localhost:8080/"
        },
        "id": "b5T7UORNnNMU",
        "outputId": "1aa23873-469e-4f1e-96e6-fa293c54d6f9"
      },
      "outputs": [
        {
          "name": "stdout",
          "output_type": "stream",
          "text": [
            "Existe\n",
            "4\n"
          ]
        }
      ],
      "source": [
        "#Buscar pelo valor\n",
        "print(buscaNumeroValor(5, numeros))\n",
        "\n",
        "#Buscar pelo indice\n",
        "print (buscaNumeroIndice(5, numeros))"
      ]
    },
    {
      "cell_type": "markdown",
      "metadata": {
        "id": "ASYaRvYyqPzJ"
      },
      "source": [
        "## Criar um código de busca binária para acertar o valor de um número randomico"
      ]
    },
    {
      "cell_type": "code",
      "execution_count": null,
      "metadata": {
        "id": "e2fFlgU-qM26"
      },
      "outputs": [],
      "source": [
        "#Um número é gerado randomicamente\n",
        "#Exibe-se a mensagem \"Escolha um número entre 0 e 100\"\n",
        "#Verifica-se se o número escolhido é igual ao número gerado.\n",
        "## Se for igual - Exibe a mensagem \"Você venceu\" -> Sai do programa\n",
        "## Se for diferente e:\n",
        "    #### Se for maior que o número gerado\n",
        "        ## O número maximo passa a ser o número escolhido\n",
        "    #### Se for menor que o número gerado\n",
        "        ## O número mínimo passa a ser o número escolhido.\n",
        "#Repete-se até que o número escolhido seja igual ao número gerado."
      ]
    },
    {
      "cell_type": "markdown",
      "metadata": {
        "id": "Q2Ue-hA9wtlz"
      },
      "source": [
        "## Código proposto"
      ]
    },
    {
      "cell_type": "code",
      "execution_count": null,
      "metadata": {
        "colab": {
          "base_uri": "https://localhost:8080/"
        },
        "id": "Hn4NbbznwqiF",
        "outputId": "9936f23e-0913-4025-9fa1-c87854ea72c5"
      },
      "outputs": [
        {
          "name": "stdout",
          "output_type": "stream",
          "text": [
            "22\n"
          ]
        }
      ],
      "source": [
        "import random\n",
        "\n",
        "numeroSecreto = random.randrange(1, 101)\n",
        "\n",
        "print(numeroSecreto)"
      ]
    },
    {
      "cell_type": "code",
      "execution_count": null,
      "metadata": {
        "colab": {
          "base_uri": "https://localhost:8080/"
        },
        "id": "JRqUE5Dl2COr",
        "outputId": "66545481-caf5-410a-8202-a981490d4e63"
      },
      "outputs": [
        {
          "output_type": "stream",
          "name": "stdout",
          "text": [
            "Escolha um número entre 1 e 100\n",
            "Numero: 65\n",
            "Vc errou!\n",
            "Escolha um número entre 1 e 65\n",
            "Numero: 20\n",
            "Vc errou!\n",
            "Escolha um número entre 20 e 65\n",
            "Numero: 30\n",
            "Vc errou!\n",
            "Escolha um número entre 20 e 30\n",
            "Numero: 22\n",
            "Acertô, mizerave!\n"
          ]
        }
      ],
      "source": [
        "min = 1\n",
        "max = 100\n",
        "\n",
        "while max > min:\n",
        "  print(f'Escolha um número entre {min} e {max}')\n",
        "  pitaco = int(input('Numero: '))\n",
        "  if pitaco == numeroSecreto:\n",
        "    min = max\n",
        "    print('Acertô, mizerave!')\n",
        "  else:\n",
        "    print('Vc errou!')\n",
        "    if pitaco < numeroSecreto:\n",
        "      min = pitaco\n",
        "    if pitaco > numeroSecreto:\n",
        "      max = pitaco\n",
        "\n",
        "\n"
      ]
    },
    {
      "cell_type": "code",
      "execution_count": null,
      "metadata": {
        "colab": {
          "base_uri": "https://localhost:8080/",
          "height": 373
        },
        "collapsed": true,
        "id": "SLt3KmymxGFY",
        "outputId": "c5b2338f-80d8-435c-c2a3-35398128a271"
      },
      "outputs": [
        {
          "name": "stdout",
          "output_type": "stream",
          "text": [
            "Escolha um número entre 1 e 100\n"
          ]
        },
        {
          "ename": "KeyboardInterrupt",
          "evalue": "Interrupted by user",
          "output_type": "error",
          "traceback": [
            "\u001b[0;31m---------------------------------------------------------------------------\u001b[0m",
            "\u001b[0;31mKeyboardInterrupt\u001b[0m                         Traceback (most recent call last)",
            "\u001b[0;32m/tmp/ipython-input-796788914.py\u001b[0m in \u001b[0;36m<cell line: 0>\u001b[0;34m()\u001b[0m\n\u001b[1;32m      4\u001b[0m \u001b[0;32mwhile\u001b[0m \u001b[0mmax\u001b[0m \u001b[0;34m>\u001b[0m \u001b[0mmin\u001b[0m\u001b[0;34m:\u001b[0m\u001b[0;34m\u001b[0m\u001b[0;34m\u001b[0m\u001b[0m\n\u001b[1;32m      5\u001b[0m   \u001b[0mprint\u001b[0m \u001b[0;34m(\u001b[0m\u001b[0;34mf'Escolha um número entre {min} e {max}'\u001b[0m\u001b[0;34m)\u001b[0m\u001b[0;34m\u001b[0m\u001b[0;34m\u001b[0m\u001b[0m\n\u001b[0;32m----> 6\u001b[0;31m   \u001b[0mpitaco\u001b[0m \u001b[0;34m=\u001b[0m \u001b[0mint\u001b[0m\u001b[0;34m(\u001b[0m\u001b[0minput\u001b[0m\u001b[0;34m(\u001b[0m\u001b[0;34m'Seu pitaco: '\u001b[0m\u001b[0;34m)\u001b[0m\u001b[0;34m)\u001b[0m\u001b[0;34m\u001b[0m\u001b[0;34m\u001b[0m\u001b[0m\n\u001b[0m\u001b[1;32m      7\u001b[0m   \u001b[0;32mif\u001b[0m \u001b[0mpitaco\u001b[0m \u001b[0;34m==\u001b[0m \u001b[0mnumeroSecreto\u001b[0m\u001b[0;34m:\u001b[0m\u001b[0;34m\u001b[0m\u001b[0;34m\u001b[0m\u001b[0m\n\u001b[1;32m      8\u001b[0m     \u001b[0mmin\u001b[0m \u001b[0;34m=\u001b[0m \u001b[0mmax\u001b[0m\u001b[0;34m\u001b[0m\u001b[0;34m\u001b[0m\u001b[0m\n",
            "\u001b[0;32m/usr/local/lib/python3.12/dist-packages/ipykernel/kernelbase.py\u001b[0m in \u001b[0;36mraw_input\u001b[0;34m(self, prompt)\u001b[0m\n\u001b[1;32m   1175\u001b[0m                 \u001b[0;34m\"raw_input was called, but this frontend does not support input requests.\"\u001b[0m\u001b[0;34m\u001b[0m\u001b[0;34m\u001b[0m\u001b[0m\n\u001b[1;32m   1176\u001b[0m             )\n\u001b[0;32m-> 1177\u001b[0;31m         return self._input_request(\n\u001b[0m\u001b[1;32m   1178\u001b[0m             \u001b[0mstr\u001b[0m\u001b[0;34m(\u001b[0m\u001b[0mprompt\u001b[0m\u001b[0;34m)\u001b[0m\u001b[0;34m,\u001b[0m\u001b[0;34m\u001b[0m\u001b[0;34m\u001b[0m\u001b[0m\n\u001b[1;32m   1179\u001b[0m             \u001b[0mself\u001b[0m\u001b[0;34m.\u001b[0m\u001b[0m_parent_ident\u001b[0m\u001b[0;34m[\u001b[0m\u001b[0;34m\"shell\"\u001b[0m\u001b[0;34m]\u001b[0m\u001b[0;34m,\u001b[0m\u001b[0;34m\u001b[0m\u001b[0;34m\u001b[0m\u001b[0m\n",
            "\u001b[0;32m/usr/local/lib/python3.12/dist-packages/ipykernel/kernelbase.py\u001b[0m in \u001b[0;36m_input_request\u001b[0;34m(self, prompt, ident, parent, password)\u001b[0m\n\u001b[1;32m   1217\u001b[0m             \u001b[0;32mexcept\u001b[0m \u001b[0mKeyboardInterrupt\u001b[0m\u001b[0;34m:\u001b[0m\u001b[0;34m\u001b[0m\u001b[0;34m\u001b[0m\u001b[0m\n\u001b[1;32m   1218\u001b[0m                 \u001b[0;31m# re-raise KeyboardInterrupt, to truncate traceback\u001b[0m\u001b[0;34m\u001b[0m\u001b[0;34m\u001b[0m\u001b[0m\n\u001b[0;32m-> 1219\u001b[0;31m                 \u001b[0;32mraise\u001b[0m \u001b[0mKeyboardInterrupt\u001b[0m\u001b[0;34m(\u001b[0m\u001b[0;34m\"Interrupted by user\"\u001b[0m\u001b[0;34m)\u001b[0m \u001b[0;32mfrom\u001b[0m \u001b[0;32mNone\u001b[0m\u001b[0;34m\u001b[0m\u001b[0;34m\u001b[0m\u001b[0m\n\u001b[0m\u001b[1;32m   1220\u001b[0m             \u001b[0;32mexcept\u001b[0m \u001b[0mException\u001b[0m\u001b[0;34m:\u001b[0m\u001b[0;34m\u001b[0m\u001b[0;34m\u001b[0m\u001b[0m\n\u001b[1;32m   1221\u001b[0m                 \u001b[0mself\u001b[0m\u001b[0;34m.\u001b[0m\u001b[0mlog\u001b[0m\u001b[0;34m.\u001b[0m\u001b[0mwarning\u001b[0m\u001b[0;34m(\u001b[0m\u001b[0;34m\"Invalid Message:\"\u001b[0m\u001b[0;34m,\u001b[0m \u001b[0mexc_info\u001b[0m\u001b[0;34m=\u001b[0m\u001b[0;32mTrue\u001b[0m\u001b[0;34m)\u001b[0m\u001b[0;34m\u001b[0m\u001b[0;34m\u001b[0m\u001b[0m\n",
            "\u001b[0;31mKeyboardInterrupt\u001b[0m: Interrupted by user"
          ]
        }
      ],
      "source": [
        "min = 1\n",
        "max = 100\n",
        "\n",
        "while max > min:\n",
        "  print (f'Escolha um número entre {min} e {max}')\n",
        "  pitaco = int(input('Seu pitaco: '))\n",
        "  if pitaco == numeroSecreto:\n",
        "    min = max\n",
        "    print('Acertô, mizerave')\n",
        "  else:\n",
        "    print('Errou')\n",
        "    if pitaco > numeroSecreto:\n",
        "      max = pitaco\n",
        "    else:\n",
        "      min = pitaco"
      ]
    },
    {
      "cell_type": "markdown",
      "metadata": {
        "id": "NDb7J7P5Si17"
      },
      "source": [
        "##BIG O\n"
      ]
    },
    {
      "cell_type": "code",
      "execution_count": null,
      "metadata": {
        "id": "EO8dyupxSl8H"
      },
      "outputs": [],
      "source": [
        "#O(1) → Constante\n",
        "\n",
        "def acessar_elemento(lista, i):\n",
        "    return lista[i]"
      ]
    },
    {
      "cell_type": "code",
      "execution_count": null,
      "metadata": {
        "id": "pFlTKvQRUIlj"
      },
      "outputs": [],
      "source": [
        "#O(1) → Linear\n",
        "\n",
        "def soma_lista(lista):\n",
        "    total = 0\n",
        "    for elemento in lista:\n",
        "        total += elemento\n",
        "    return total"
      ]
    },
    {
      "cell_type": "code",
      "execution_count": null,
      "metadata": {
        "id": "WQtp8ttFUIaR"
      },
      "outputs": [],
      "source": [
        "#O(n²) → Quadrático\n",
        "\n",
        "def pares_unicos(lista):\n",
        "    pares = []\n",
        "    for i in range(len(lista)):\n",
        "        for j in range(len(lista)):\n",
        "            pares.append((lista[i], lista[j]))\n",
        "    return pares"
      ]
    },
    {
      "cell_type": "code",
      "execution_count": null,
      "metadata": {
        "id": "iBuS8uw-Ugge"
      },
      "outputs": [],
      "source": [
        "# O(log n) → Logarítmico (busca binária)\n",
        "\n",
        "def busca_binaria(lista, alvo):\n",
        "    inicio, fim = 0, len(lista) - 1\n",
        "    while inicio <= fim:\n",
        "        meio = (inicio + fim) // 2\n",
        "        if lista[meio] == alvo:\n",
        "            return meio\n",
        "        elif lista[meio] < alvo:\n",
        "            inicio = meio + 1\n",
        "        else:\n",
        "            fim = meio - 1\n",
        "    return -1"
      ]
    },
    {
      "cell_type": "markdown",
      "metadata": {
        "id": "JWpJooorSu26"
      },
      "source": [
        "## Selection Sort"
      ]
    },
    {
      "cell_type": "code",
      "source": [
        "#Definindo o array\n",
        "numeros = [4, 3, 12, 8, 5, 1]"
      ],
      "metadata": {
        "id": "5QN8acisuLVz"
      },
      "execution_count": null,
      "outputs": []
    },
    {
      "cell_type": "code",
      "execution_count": null,
      "metadata": {
        "id": "8apRMhazV20b"
      },
      "outputs": [],
      "source": [
        "def buscaMenor(arr):\n",
        "  menor = arr[0]\n",
        "  menor_indice = 0\n",
        "  for i in range(1, len(arr)):\n",
        "    if arr[i] < menor:\n",
        "      menor = arr[i]\n",
        "      menor_indice = i\n",
        "  return menor_indice"
      ]
    },
    {
      "cell_type": "code",
      "source": [
        "def ordenacaoporSelecao(arr):\n",
        "  novoArr = []\n",
        "  for i in range(len(arr)):\n",
        "    menor = buscaMenor(arr)\n",
        "    novoArr.append(arr.pop(menor))\n",
        "  return novoArr"
      ],
      "metadata": {
        "id": "syV_p2JyuXtw"
      },
      "execution_count": null,
      "outputs": []
    },
    {
      "cell_type": "code",
      "source": [
        "print (ordenacaoporSelecao(numeros))\n",
        "print(numeros)"
      ],
      "metadata": {
        "colab": {
          "base_uri": "https://localhost:8080/"
        },
        "id": "zLxXTf5KCmQO",
        "outputId": "dc1ac88b-d9ca-48d7-b207-d1bbfad14ac2"
      },
      "execution_count": null,
      "outputs": [
        {
          "output_type": "stream",
          "name": "stdout",
          "text": [
            "[1, 3, 4, 5, 8, 12]\n",
            "[]\n"
          ]
        }
      ]
    },
    {
      "cell_type": "code",
      "source": [
        "#Descobrir o menor número da lista\n"
      ],
      "metadata": {
        "id": "kyxqleMU7mzC"
      },
      "execution_count": null,
      "outputs": []
    },
    {
      "cell_type": "code",
      "source": [
        "#Sauda\n"
      ],
      "metadata": {
        "id": "h-3vXPm64-D7"
      },
      "execution_count": null,
      "outputs": []
    },
    {
      "cell_type": "code",
      "source": [
        "sauda('Jose')"
      ],
      "metadata": {
        "colab": {
          "base_uri": "https://localhost:8080/"
        },
        "id": "DThDCME85giL",
        "outputId": "5cebce0c-5c38-4152-e1a6-a1344171c47b"
      },
      "execution_count": null,
      "outputs": [
        {
          "output_type": "stream",
          "name": "stdout",
          "text": [
            "olá, Jose\n",
            "como vai Jose?\n",
            "Preparando pra dizer tchau...\n",
            "Tchau, otaro!\n"
          ]
        }
      ]
    },
    {
      "cell_type": "markdown",
      "source": [
        "## Exemplos recursão"
      ],
      "metadata": {
        "id": "22Lnnc3dIzU-"
      }
    },
    {
      "cell_type": "code",
      "source": [
        "#Fatorial\n",
        "#caso-base 0 1 = 1\n",
        "# 4! = 4*3*2*1\n",
        "def fatorial(n):\n",
        "  if n <=1:\n",
        "    return 1\n",
        "  return n * fatorial(n-1)\n",
        "\n",
        "print(fatorial(5))"
      ],
      "metadata": {
        "id": "jQs6H49wIy7a",
        "colab": {
          "base_uri": "https://localhost:8080/"
        },
        "outputId": "85ddc559-e6a4-4546-8184-e4e2711655d0"
      },
      "execution_count": null,
      "outputs": [
        {
          "output_type": "stream",
          "name": "stdout",
          "text": [
            "120\n"
          ]
        }
      ]
    },
    {
      "cell_type": "code",
      "source": [
        "#Soma de números 1 a N\n",
        "#caso-base é se só tiver o número 1 a soma será 1\n",
        "def soma_recursiva(n):\n",
        "  if n == 1:\n",
        "    return 1\n",
        "  return n + soma_recursiva(n-1)\n",
        "\n",
        "print(soma_recursiva(1))\n",
        "print(soma_recursiva(3))\n"
      ],
      "metadata": {
        "colab": {
          "base_uri": "https://localhost:8080/"
        },
        "id": "w5bbihZzJMZJ",
        "outputId": "1f80bcf3-031e-4389-abbc-9363718775f3"
      },
      "execution_count": null,
      "outputs": [
        {
          "output_type": "stream",
          "name": "stdout",
          "text": [
            "1\n",
            "6\n"
          ]
        }
      ]
    },
    {
      "cell_type": "code",
      "source": [
        "#contagem regressiva\n",
        "#caso-base .. quando chegar em zero para\n",
        "def contagem_regressiva(n):\n",
        "  if n < 0:\n",
        "    return #imprime o número atual\n",
        "  print(n)\n",
        "  contagem_regressiva(n-1)\n",
        "\n",
        "print(contagem_regressiva(5))\n",
        "\n",
        "\n"
      ],
      "metadata": {
        "id": "gIsuIk79JT-_",
        "colab": {
          "base_uri": "https://localhost:8080/"
        },
        "outputId": "35be17d6-ce4f-4cb1-a784-41aac709ca1a"
      },
      "execution_count": null,
      "outputs": [
        {
          "output_type": "stream",
          "name": "stdout",
          "text": [
            "5\n",
            "4\n",
            "3\n",
            "2\n",
            "1\n",
            "0\n",
            "None\n"
          ]
        }
      ]
    },
    {
      "cell_type": "code",
      "source": [],
      "metadata": {
        "id": "8FIKvflbkC8a"
      },
      "execution_count": null,
      "outputs": []
    },
    {
      "cell_type": "markdown",
      "source": [
        "## Quick Sort\n",
        "### Dividir para conquistar"
      ],
      "metadata": {
        "id": "tFT1ww-vBp35"
      }
    },
    {
      "cell_type": "code",
      "source": [
        "lista = [2, 4, 6]"
      ],
      "metadata": {
        "id": "-txrvXDrBtya"
      },
      "execution_count": null,
      "outputs": []
    },
    {
      "cell_type": "code",
      "source": [
        "#soma da lista\n",
        "def soma(lista):\n",
        "  total = 0\n",
        "  for x in lista:\n",
        "    total+= x\n",
        "  return total\n",
        "\n",
        "print(soma(lista))\n",
        "\n",
        "#como podemos fazer o mesmo usando recursão?"
      ],
      "metadata": {
        "colab": {
          "base_uri": "https://localhost:8080/"
        },
        "id": "0MAv7XpSB7wt",
        "outputId": "218a5ba5-f37e-4986-a941-714ef678fdc6"
      },
      "execution_count": null,
      "outputs": [
        {
          "output_type": "stream",
          "name": "stdout",
          "text": [
            "12\n"
          ]
        }
      ]
    },
    {
      "cell_type": "code",
      "source": [
        "#soma([2,4,6]) = 12\n",
        "#2 + soma([4,6]) = 2 + 10 = 12\n",
        "\n",
        "#--------------------\n",
        "#soma([2,4,6])  ----------------> resultado final = 12\n",
        "#2 + soma([4,6]) -------------> 2 + 10 = 12\n",
        "##### 4 + soma([6]) --------> 4+6 = 10\n",
        "### caso-base soma([6])"
      ],
      "metadata": {
        "id": "kHJ5ZfthH6a6"
      },
      "execution_count": null,
      "outputs": []
    },
    {
      "cell_type": "code",
      "source": [
        "#Exercício Dividir para conquistar - Função SOMA\n",
        "def somatorio(lista):\n",
        "  if len(lista) == 1:\n",
        "    return lista[0]\n",
        "  return lista[0]+ somatorio(lista[1:])\n",
        "\n",
        "print(somatorio(lista))"
      ],
      "metadata": {
        "colab": {
          "base_uri": "https://localhost:8080/"
        },
        "id": "lUY8PcKGjwlK",
        "outputId": "4e6522a7-e7b8-4bcb-e498-19c408009549"
      },
      "execution_count": null,
      "outputs": [
        {
          "output_type": "stream",
          "name": "stdout",
          "text": [
            "12\n"
          ]
        }
      ]
    },
    {
      "cell_type": "code",
      "source": [
        "not lista"
      ],
      "metadata": {
        "colab": {
          "base_uri": "https://localhost:8080/"
        },
        "id": "hgQdVmz2K0DL",
        "outputId": "9e03f800-7368-4aaa-9314-1f4ddd6f8841"
      },
      "execution_count": null,
      "outputs": [
        {
          "output_type": "execute_result",
          "data": {
            "text/plain": [
              "True"
            ]
          },
          "metadata": {},
          "execution_count": 39
        }
      ]
    },
    {
      "cell_type": "code",
      "source": [
        "#Exercicio - Conte o número de itens de uma lista\n",
        "def contarElementos(lista):\n",
        "  if not lista:\n",
        "    return 0\n",
        "  return 1 + contarElementos(lista[1:])\n",
        "\n",
        "print(contarElementos(lista))\n"
      ],
      "metadata": {
        "colab": {
          "base_uri": "https://localhost:8080/"
        },
        "id": "j-fMe8NglNcj",
        "outputId": "2c554b18-ddf8-42af-f0cf-19fe9f1c97a0"
      },
      "execution_count": null,
      "outputs": [
        {
          "output_type": "stream",
          "name": "stdout",
          "text": [
            "3\n"
          ]
        }
      ]
    },
    {
      "cell_type": "code",
      "source": [
        "outralista = [None, 2, 4]\n",
        "\n",
        "outralista"
      ],
      "metadata": {
        "colab": {
          "base_uri": "https://localhost:8080/"
        },
        "id": "_TNiUdN8LPUI",
        "outputId": "ba0e1638-2a87-4c2a-d352-db3081eef3a8"
      },
      "execution_count": null,
      "outputs": [
        {
          "output_type": "execute_result",
          "data": {
            "text/plain": [
              "[None, 2, 4]"
            ]
          },
          "metadata": {},
          "execution_count": 42
        }
      ]
    },
    {
      "cell_type": "code",
      "source": [],
      "metadata": {
        "colab": {
          "base_uri": "https://localhost:8080/"
        },
        "id": "sbCMl2Dakljs",
        "outputId": "7293467a-39b5-4d82-d4f2-39dc9a9af044"
      },
      "execution_count": null,
      "outputs": [
        {
          "output_type": "execute_result",
          "data": {
            "text/plain": [
              "12"
            ]
          },
          "metadata": {},
          "execution_count": 6
        }
      ]
    },
    {
      "cell_type": "code",
      "source": [
        "#quick sort\n",
        "#caso-base: vazia ou só 1 elemento\n",
        "\n",
        "def quicksort(lista):\n",
        "  if len(lista) < 2:\n",
        "    return lista\n",
        "  else:\n",
        "    pivo = lista[0]\n",
        "    menores = [i for i in lista[1:] if i <= pivo]\n",
        "    maiores = [i for i in lista[1:] if i > pivo]\n",
        "    return quicksort(menores) + [pivo] + quicksort(maiores)"
      ],
      "metadata": {
        "id": "7dooVDhaQBDz"
      },
      "execution_count": null,
      "outputs": []
    },
    {
      "cell_type": "code",
      "source": [
        "nums = [7, 12, 5, 23, 1, 33, 4]\n",
        "quicksort(nums)\n"
      ],
      "metadata": {
        "colab": {
          "base_uri": "https://localhost:8080/"
        },
        "id": "U4rTwKqTSNyH",
        "outputId": "95a77270-4e8a-4df4-975a-5544ab6aed9b"
      },
      "execution_count": null,
      "outputs": [
        {
          "output_type": "execute_result",
          "data": {
            "text/plain": [
              "[1, 4, 5, 7, 12, 23, 33]"
            ]
          },
          "metadata": {},
          "execution_count": 49
        }
      ]
    },
    {
      "cell_type": "code",
      "source": [
        "#[1,2,3,4,5,6,7,8]\n",
        "#[]1[2,3,4,5,6,7,8]\n",
        "## []2[3,4,5,6,7,8]\n",
        "### []3[4,5,6,7,8]\n",
        "#### []4[5,6,7,8]\n",
        "##### []5[6,7,8]\n",
        "###### []6[7,8]\n",
        "#        []7[8]\n",
        "\n"
      ],
      "metadata": {
        "id": "dZwJyNpfTIkJ"
      },
      "execution_count": null,
      "outputs": []
    },
    {
      "cell_type": "code",
      "source": [
        "#[1,2,3,4,5,6,7,8]\n",
        "#[1,2,3]4[5,6,7,8]\n",
        "#[1]2[3] [5]6[7,8]\n",
        "#            []7[8]\n",
        "\n",
        "#no pior caso o tamanho da pilha é O(n), no melhor caso o tamanho é O(log n)"
      ],
      "metadata": {
        "id": "OimSTghtT7Mf"
      },
      "execution_count": null,
      "outputs": []
    },
    {
      "cell_type": "markdown",
      "source": [
        "## Tabela Hash"
      ],
      "metadata": {
        "id": "zFw6e2dhYP2q"
      }
    },
    {
      "cell_type": "code",
      "source": [
        "#hash nativo em Python\n",
        "#Dicionários\n",
        "\n",
        "produtos = dict()\n",
        "\n",
        "produtos[\"salgadinho\"]=9\n",
        "produtos[\"biscoito\"]=6\n",
        "produtos[\"café\"]=15\n",
        "produtos[\"maionese\"]=11"
      ],
      "metadata": {
        "id": "sGSt-ypsYR-1"
      },
      "execution_count": 37,
      "outputs": []
    },
    {
      "cell_type": "code",
      "source": [
        "produtos[\"maionese\"]=10\n",
        "\n",
        "print(produtos[\"maionese\"])"
      ],
      "metadata": {
        "colab": {
          "base_uri": "https://localhost:8080/"
        },
        "id": "Tj1cp3HoMHwM",
        "outputId": "09b45533-0196-42bf-b908-3559b9bfca7c"
      },
      "execution_count": 42,
      "outputs": [
        {
          "output_type": "stream",
          "name": "stdout",
          "text": [
            "10\n"
          ]
        }
      ]
    },
    {
      "cell_type": "code",
      "source": [
        "#Chave, valor, hash\n",
        "\n",
        "nome = \"Zé Oliveira\"\n",
        "soma = 0\n",
        "tamanho = 10\n",
        "\n",
        "for c in nome:\n",
        "  print(ord(c))\n",
        "  soma += ord(c)\n",
        "\n",
        "print(\"O índice é: \",soma % tamanho)"
      ],
      "metadata": {
        "id": "O0GMT87kMo_W"
      },
      "execution_count": null,
      "outputs": []
    },
    {
      "cell_type": "code",
      "source": [
        "#Escrever nossa função hash\n",
        "\n",
        "def hash_function(key, size): #Gera o índice\n",
        "  return sum(ord(c) for c in key) % size #list comprehension"
      ],
      "metadata": {
        "colab": {
          "base_uri": "https://localhost:8080/"
        },
        "id": "8YiKngc_OieN",
        "outputId": "06459747-6b24-454b-efc2-9f9aa4d5e782"
      },
      "execution_count": 62,
      "outputs": [
        {
          "output_type": "execute_result",
          "data": {
            "text/plain": [
              "0"
            ]
          },
          "metadata": {},
          "execution_count": 62
        }
      ]
    },
    {
      "cell_type": "code",
      "source": [
        "class HashTable:\n",
        "  def __init__(self, size):\n",
        "    self.size = size\n",
        "    self.table = [[] for _ in range(size)]\n",
        "  #inserir item\n",
        "  def set_item(self, key, value):\n",
        "    indice = hash_function(key, self.size)\n",
        "    for par in self.table[indice]: #caso exista essa chave no índice, ele a atualiza\n",
        "      if par[0]==key:\n",
        "        par[1]=value\n",
        "        return\n",
        "    self.table[indice].append([key,value])\n",
        "  #pegar o item\n",
        "  def get_item(self, key):\n",
        "    indice = hash_function(key, self.size)\n",
        "    for par in self.table[indice]:\n",
        "      if par[0]==key:\n",
        "        return par[1]\n",
        "    return None\n",
        "\n",
        "  #remover o item\n",
        "  def remove_item(self, key):\n",
        "    indice = hash_function(key, self.size)\n",
        "    for par in self.table[indice]:\n",
        "      if par[0]==key:\n",
        "        self.table[indice].remove(par)\n",
        "        return\n",
        "  #mostrar a tabela\n",
        "  def __repr__(self):\n",
        "    return str(self.table)"
      ],
      "metadata": {
        "id": "CfYNZVRtQ53R"
      },
      "execution_count": 63,
      "outputs": []
    },
    {
      "cell_type": "code",
      "source": [
        "hash_table = HashTable(10) #Instanciando / criando a tabela hash com 10 posições\n",
        "\n",
        "hash_table.set_item(\"Juvenal\", \"123\")\n",
        "hash_table.set_item(\"Geovana\", \"235\")\n",
        "hash_table.set_item(\"Lino\", \"102\")\n",
        "hash_table.set_item(\"Alice\", \"470\")\n",
        "hash_table.set_item(\"Gabriela\", \"657\")\n",
        "hash_table.set_item(\"André\", \"369\")\n",
        "\n",
        "print(hash_table)\n",
        "\n",
        "#Buscar um item\n",
        "print(\"O contato é\",hash_table.get_item(\"Alice\"))\n",
        "\n",
        "#remover um item\n",
        "hash_table.remove_item(\"Juvenal\")\n",
        "\n",
        "print(hash_table)"
      ],
      "metadata": {
        "colab": {
          "base_uri": "https://localhost:8080/"
        },
        "id": "2y5sAaCkT4U7",
        "outputId": "f9d7e0f0-9639-444e-9a9d-b48b4d22aa32"
      },
      "execution_count": 69,
      "outputs": [
        {
          "output_type": "stream",
          "name": "stdout",
          "text": [
            "[[], [['Gabriela', '657']], [['Lino', '102'], ['André', '369']], [], [], [['Juvenal', '123'], ['Geovana', '235']], [], [], [['Alice', '470']], []]\n",
            "O contato é 470\n",
            "[[], [['Gabriela', '657']], [['Lino', '102'], ['André', '369']], [], [], [['Geovana', '235']], [], [], [['Alice', '470']], []]\n"
          ]
        }
      ]
    }
  ],
  "metadata": {
    "colab": {
      "provenance": [],
      "authorship_tag": "ABX9TyM8gH26HyRsBamdSnaIdMGH",
      "include_colab_link": true
    },
    "kernelspec": {
      "display_name": "Python 3",
      "name": "python3"
    },
    "language_info": {
      "name": "python"
    }
  },
  "nbformat": 4,
  "nbformat_minor": 0
}