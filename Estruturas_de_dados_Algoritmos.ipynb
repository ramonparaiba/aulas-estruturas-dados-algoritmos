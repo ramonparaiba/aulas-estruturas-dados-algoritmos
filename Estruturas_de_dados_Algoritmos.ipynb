{
  "cells": [
    {
      "cell_type": "markdown",
      "metadata": {
        "id": "view-in-github",
        "colab_type": "text"
      },
      "source": [
        "<a href=\"https://colab.research.google.com/github/ramonparaiba/aulas-estruturas-dados-algoritmos/blob/main/Estruturas_de_dados_Algoritmos.ipynb\" target=\"_parent\"><img src=\"https://colab.research.google.com/assets/colab-badge.svg\" alt=\"Open In Colab\"/></a>"
      ]
    },
    {
      "cell_type": "code",
      "execution_count": null,
      "metadata": {
        "id": "xjLzA9Mel0io"
      },
      "outputs": [],
      "source": [
        "#Busca em lista\n",
        "\n",
        "numeros = [1, 2, 3, 4, 5, 6, 7, 8]\n",
        "\n",
        "def buscaNumeroValor(numero, lista):\n",
        "  for num in lista:\n",
        "    if num == numero:\n",
        "      return 'Existe'\n",
        "  return None\n",
        "\n",
        "def buscaNumeroIndice(numero, lista):\n",
        "  if numero in lista:\n",
        "    return lista.index(numero)\n",
        "  else: return None"
      ]
    },
    {
      "cell_type": "code",
      "execution_count": null,
      "metadata": {
        "colab": {
          "base_uri": "https://localhost:8080/"
        },
        "id": "b5T7UORNnNMU",
        "outputId": "1aa23873-469e-4f1e-96e6-fa293c54d6f9"
      },
      "outputs": [
        {
          "name": "stdout",
          "output_type": "stream",
          "text": [
            "Existe\n",
            "4\n"
          ]
        }
      ],
      "source": [
        "#Buscar pelo valor\n",
        "print(buscaNumeroValor(5, numeros))\n",
        "\n",
        "#Buscar pelo indice\n",
        "print (buscaNumeroIndice(5, numeros))"
      ]
    },
    {
      "cell_type": "markdown",
      "metadata": {
        "id": "ASYaRvYyqPzJ"
      },
      "source": [
        "## Criar um código de busca binária para acertar o valor de um número randomico"
      ]
    },
    {
      "cell_type": "code",
      "execution_count": null,
      "metadata": {
        "id": "e2fFlgU-qM26"
      },
      "outputs": [],
      "source": [
        "#Um número é gerado randomicamente\n",
        "#Exibe-se a mensagem \"Escolha um número entre 0 e 100\"\n",
        "#Verifica-se se o número escolhido é igual ao número gerado.\n",
        "## Se for igual - Exibe a mensagem \"Você venceu\" -> Sai do programa\n",
        "## Se for diferente e:\n",
        "    #### Se for maior que o número gerado\n",
        "        ## O número maximo passa a ser o número escolhido\n",
        "    #### Se for menor que o número gerado\n",
        "        ## O número mínimo passa a ser o número escolhido.\n",
        "#Repete-se até que o número escolhido seja igual ao número gerado."
      ]
    },
    {
      "cell_type": "markdown",
      "metadata": {
        "id": "Q2Ue-hA9wtlz"
      },
      "source": [
        "## Código proposto"
      ]
    },
    {
      "cell_type": "code",
      "execution_count": null,
      "metadata": {
        "colab": {
          "base_uri": "https://localhost:8080/"
        },
        "id": "Hn4NbbznwqiF",
        "outputId": "9936f23e-0913-4025-9fa1-c87854ea72c5"
      },
      "outputs": [
        {
          "name": "stdout",
          "output_type": "stream",
          "text": [
            "22\n"
          ]
        }
      ],
      "source": [
        "import random\n",
        "\n",
        "numeroSecreto = random.randrange(1, 101)\n",
        "\n",
        "print(numeroSecreto)"
      ]
    },
    {
      "cell_type": "code",
      "execution_count": 42,
      "metadata": {
        "colab": {
          "base_uri": "https://localhost:8080/"
        },
        "id": "JRqUE5Dl2COr",
        "outputId": "66545481-caf5-410a-8202-a981490d4e63"
      },
      "outputs": [
        {
          "output_type": "stream",
          "name": "stdout",
          "text": [
            "Escolha um número entre 1 e 100\n",
            "Numero: 65\n",
            "Vc errou!\n",
            "Escolha um número entre 1 e 65\n",
            "Numero: 20\n",
            "Vc errou!\n",
            "Escolha um número entre 20 e 65\n",
            "Numero: 30\n",
            "Vc errou!\n",
            "Escolha um número entre 20 e 30\n",
            "Numero: 22\n",
            "Acertô, mizerave!\n"
          ]
        }
      ],
      "source": [
        "min = 1\n",
        "max = 100\n",
        "\n",
        "while max > min:\n",
        "  print(f'Escolha um número entre {min} e {max}')\n",
        "  pitaco = int(input('Numero: '))\n",
        "  if pitaco == numeroSecreto:\n",
        "    min = max\n",
        "    print('Acertô, mizerave!')\n",
        "  else:\n",
        "    print('Vc errou!')\n",
        "    if pitaco < numeroSecreto:\n",
        "      min = pitaco\n",
        "    if pitaco > numeroSecreto:\n",
        "      max = pitaco\n",
        "\n",
        "\n"
      ]
    },
    {
      "cell_type": "code",
      "execution_count": null,
      "metadata": {
        "colab": {
          "base_uri": "https://localhost:8080/",
          "height": 373
        },
        "collapsed": true,
        "id": "SLt3KmymxGFY",
        "outputId": "c5b2338f-80d8-435c-c2a3-35398128a271"
      },
      "outputs": [
        {
          "name": "stdout",
          "output_type": "stream",
          "text": [
            "Escolha um número entre 1 e 100\n"
          ]
        },
        {
          "ename": "KeyboardInterrupt",
          "evalue": "Interrupted by user",
          "output_type": "error",
          "traceback": [
            "\u001b[0;31m---------------------------------------------------------------------------\u001b[0m",
            "\u001b[0;31mKeyboardInterrupt\u001b[0m                         Traceback (most recent call last)",
            "\u001b[0;32m/tmp/ipython-input-796788914.py\u001b[0m in \u001b[0;36m<cell line: 0>\u001b[0;34m()\u001b[0m\n\u001b[1;32m      4\u001b[0m \u001b[0;32mwhile\u001b[0m \u001b[0mmax\u001b[0m \u001b[0;34m>\u001b[0m \u001b[0mmin\u001b[0m\u001b[0;34m:\u001b[0m\u001b[0;34m\u001b[0m\u001b[0;34m\u001b[0m\u001b[0m\n\u001b[1;32m      5\u001b[0m   \u001b[0mprint\u001b[0m \u001b[0;34m(\u001b[0m\u001b[0;34mf'Escolha um número entre {min} e {max}'\u001b[0m\u001b[0;34m)\u001b[0m\u001b[0;34m\u001b[0m\u001b[0;34m\u001b[0m\u001b[0m\n\u001b[0;32m----> 6\u001b[0;31m   \u001b[0mpitaco\u001b[0m \u001b[0;34m=\u001b[0m \u001b[0mint\u001b[0m\u001b[0;34m(\u001b[0m\u001b[0minput\u001b[0m\u001b[0;34m(\u001b[0m\u001b[0;34m'Seu pitaco: '\u001b[0m\u001b[0;34m)\u001b[0m\u001b[0;34m)\u001b[0m\u001b[0;34m\u001b[0m\u001b[0;34m\u001b[0m\u001b[0m\n\u001b[0m\u001b[1;32m      7\u001b[0m   \u001b[0;32mif\u001b[0m \u001b[0mpitaco\u001b[0m \u001b[0;34m==\u001b[0m \u001b[0mnumeroSecreto\u001b[0m\u001b[0;34m:\u001b[0m\u001b[0;34m\u001b[0m\u001b[0;34m\u001b[0m\u001b[0m\n\u001b[1;32m      8\u001b[0m     \u001b[0mmin\u001b[0m \u001b[0;34m=\u001b[0m \u001b[0mmax\u001b[0m\u001b[0;34m\u001b[0m\u001b[0;34m\u001b[0m\u001b[0m\n",
            "\u001b[0;32m/usr/local/lib/python3.12/dist-packages/ipykernel/kernelbase.py\u001b[0m in \u001b[0;36mraw_input\u001b[0;34m(self, prompt)\u001b[0m\n\u001b[1;32m   1175\u001b[0m                 \u001b[0;34m\"raw_input was called, but this frontend does not support input requests.\"\u001b[0m\u001b[0;34m\u001b[0m\u001b[0;34m\u001b[0m\u001b[0m\n\u001b[1;32m   1176\u001b[0m             )\n\u001b[0;32m-> 1177\u001b[0;31m         return self._input_request(\n\u001b[0m\u001b[1;32m   1178\u001b[0m             \u001b[0mstr\u001b[0m\u001b[0;34m(\u001b[0m\u001b[0mprompt\u001b[0m\u001b[0;34m)\u001b[0m\u001b[0;34m,\u001b[0m\u001b[0;34m\u001b[0m\u001b[0;34m\u001b[0m\u001b[0m\n\u001b[1;32m   1179\u001b[0m             \u001b[0mself\u001b[0m\u001b[0;34m.\u001b[0m\u001b[0m_parent_ident\u001b[0m\u001b[0;34m[\u001b[0m\u001b[0;34m\"shell\"\u001b[0m\u001b[0;34m]\u001b[0m\u001b[0;34m,\u001b[0m\u001b[0;34m\u001b[0m\u001b[0;34m\u001b[0m\u001b[0m\n",
            "\u001b[0;32m/usr/local/lib/python3.12/dist-packages/ipykernel/kernelbase.py\u001b[0m in \u001b[0;36m_input_request\u001b[0;34m(self, prompt, ident, parent, password)\u001b[0m\n\u001b[1;32m   1217\u001b[0m             \u001b[0;32mexcept\u001b[0m \u001b[0mKeyboardInterrupt\u001b[0m\u001b[0;34m:\u001b[0m\u001b[0;34m\u001b[0m\u001b[0;34m\u001b[0m\u001b[0m\n\u001b[1;32m   1218\u001b[0m                 \u001b[0;31m# re-raise KeyboardInterrupt, to truncate traceback\u001b[0m\u001b[0;34m\u001b[0m\u001b[0;34m\u001b[0m\u001b[0m\n\u001b[0;32m-> 1219\u001b[0;31m                 \u001b[0;32mraise\u001b[0m \u001b[0mKeyboardInterrupt\u001b[0m\u001b[0;34m(\u001b[0m\u001b[0;34m\"Interrupted by user\"\u001b[0m\u001b[0;34m)\u001b[0m \u001b[0;32mfrom\u001b[0m \u001b[0;32mNone\u001b[0m\u001b[0;34m\u001b[0m\u001b[0;34m\u001b[0m\u001b[0m\n\u001b[0m\u001b[1;32m   1220\u001b[0m             \u001b[0;32mexcept\u001b[0m \u001b[0mException\u001b[0m\u001b[0;34m:\u001b[0m\u001b[0;34m\u001b[0m\u001b[0;34m\u001b[0m\u001b[0m\n\u001b[1;32m   1221\u001b[0m                 \u001b[0mself\u001b[0m\u001b[0;34m.\u001b[0m\u001b[0mlog\u001b[0m\u001b[0;34m.\u001b[0m\u001b[0mwarning\u001b[0m\u001b[0;34m(\u001b[0m\u001b[0;34m\"Invalid Message:\"\u001b[0m\u001b[0;34m,\u001b[0m \u001b[0mexc_info\u001b[0m\u001b[0;34m=\u001b[0m\u001b[0;32mTrue\u001b[0m\u001b[0;34m)\u001b[0m\u001b[0;34m\u001b[0m\u001b[0;34m\u001b[0m\u001b[0m\n",
            "\u001b[0;31mKeyboardInterrupt\u001b[0m: Interrupted by user"
          ]
        }
      ],
      "source": [
        "min = 1\n",
        "max = 100\n",
        "\n",
        "while max > min:\n",
        "  print (f'Escolha um número entre {min} e {max}')\n",
        "  pitaco = int(input('Seu pitaco: '))\n",
        "  if pitaco == numeroSecreto:\n",
        "    min = max\n",
        "    print('Acertô, mizerave')\n",
        "  else:\n",
        "    print('Errou')\n",
        "    if pitaco > numeroSecreto:\n",
        "      max = pitaco\n",
        "    else:\n",
        "      min = pitaco"
      ]
    },
    {
      "cell_type": "markdown",
      "metadata": {
        "id": "NDb7J7P5Si17"
      },
      "source": [
        "##BIG O\n"
      ]
    },
    {
      "cell_type": "code",
      "execution_count": null,
      "metadata": {
        "id": "EO8dyupxSl8H"
      },
      "outputs": [],
      "source": [
        "#O(1) → Constante\n",
        "\n",
        "def acessar_elemento(lista, i):\n",
        "    return lista[i]"
      ]
    },
    {
      "cell_type": "code",
      "execution_count": null,
      "metadata": {
        "id": "pFlTKvQRUIlj"
      },
      "outputs": [],
      "source": [
        "#O(1) → Linear\n",
        "\n",
        "def soma_lista(lista):\n",
        "    total = 0\n",
        "    for elemento in lista:\n",
        "        total += elemento\n",
        "    return total"
      ]
    },
    {
      "cell_type": "code",
      "execution_count": null,
      "metadata": {
        "id": "WQtp8ttFUIaR"
      },
      "outputs": [],
      "source": [
        "#O(n²) → Quadrático\n",
        "\n",
        "def pares_unicos(lista):\n",
        "    pares = []\n",
        "    for i in range(len(lista)):\n",
        "        for j in range(len(lista)):\n",
        "            pares.append((lista[i], lista[j]))\n",
        "    return pares"
      ]
    },
    {
      "cell_type": "code",
      "execution_count": null,
      "metadata": {
        "id": "iBuS8uw-Ugge"
      },
      "outputs": [],
      "source": [
        "# O(log n) → Logarítmico (busca binária)\n",
        "\n",
        "def busca_binaria(lista, alvo):\n",
        "    inicio, fim = 0, len(lista) - 1\n",
        "    while inicio <= fim:\n",
        "        meio = (inicio + fim) // 2\n",
        "        if lista[meio] == alvo:\n",
        "            return meio\n",
        "        elif lista[meio] < alvo:\n",
        "            inicio = meio + 1\n",
        "        else:\n",
        "            fim = meio - 1\n",
        "    return -1"
      ]
    },
    {
      "cell_type": "markdown",
      "metadata": {
        "id": "JWpJooorSu26"
      },
      "source": []
    },
    {
      "cell_type": "code",
      "execution_count": null,
      "metadata": {
        "id": "8apRMhazV20b"
      },
      "outputs": [],
      "source": []
    }
  ],
  "metadata": {
    "colab": {
      "provenance": [],
      "authorship_tag": "ABX9TyNeH5mHIxLmJR9pWr4pp6q3",
      "include_colab_link": true
    },
    "kernelspec": {
      "display_name": "Python 3",
      "name": "python3"
    },
    "language_info": {
      "name": "python"
    }
  },
  "nbformat": 4,
  "nbformat_minor": 0
}