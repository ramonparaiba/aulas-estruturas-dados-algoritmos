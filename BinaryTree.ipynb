{
  "nbformat": 4,
  "nbformat_minor": 0,
  "metadata": {
    "colab": {
      "provenance": [],
      "authorship_tag": "ABX9TyPqPnhIL1dM/lK0I/isz8Mz",
      "include_colab_link": true
    },
    "kernelspec": {
      "name": "python3",
      "display_name": "Python 3"
    },
    "language_info": {
      "name": "python"
    }
  },
  "cells": [
    {
      "cell_type": "markdown",
      "metadata": {
        "id": "view-in-github",
        "colab_type": "text"
      },
      "source": [
        "<a href=\"https://colab.research.google.com/github/ramonparaiba/aulas-estruturas-dados-algoritmos/blob/main/BinaryTree.ipynb\" target=\"_parent\"><img src=\"https://colab.research.google.com/assets/colab-badge.svg\" alt=\"Open In Colab\"/></a>"
      ]
    },
    {
      "cell_type": "code",
      "execution_count": 1,
      "metadata": {
        "id": "oZaBtzj5EmMw"
      },
      "outputs": [],
      "source": [
        "class Node:\n",
        "  def __init__(self, data):\n",
        "    self.data = data\n",
        "    self.left = None\n",
        "    self.right = None\n",
        "\n",
        "  def __str__(self):\n",
        "    return str(self.data)\n"
      ]
    },
    {
      "cell_type": "code",
      "source": [
        "#implementar a Árvore\n",
        "no = Node(10)\n",
        "no.left = 4\n",
        "no.right = 12\n",
        "print(no)\n",
        "print(no.left)\n",
        "print(no.right)"
      ],
      "metadata": {
        "colab": {
          "base_uri": "https://localhost:8080/"
        },
        "id": "r9NvDXVKZBPC",
        "outputId": "18b3bbb2-3df8-44c4-9c03-557982db6eea"
      },
      "execution_count": 3,
      "outputs": [
        {
          "output_type": "stream",
          "name": "stdout",
          "text": [
            "10\n",
            "4\n",
            "12\n"
          ]
        }
      ]
    },
    {
      "cell_type": "code",
      "source": [
        "#Expressões matemáticas\n",
        "# a + (b * ( (c/d) - e) )"
      ],
      "metadata": {
        "id": "SeOPVCEqZgxd"
      },
      "execution_count": null,
      "outputs": []
    },
    {
      "cell_type": "code",
      "source": [
        "class BinaryTree:\n",
        "  def __init__(self, data=None):\n",
        "    if data:\n",
        "      node = Node(data)\n",
        "      self.root = node\n",
        "    else:\n",
        "      self.root = None\n",
        "\n",
        "  def simetric_transversal(self, node=None):\n",
        "    if node is None:\n",
        "      node = self.root\n",
        "    if node.left:\n",
        "      print('(', end=' ')\n",
        "      self.simetric_transversal(node.left)\n",
        "    print(node, end=' ')\n",
        "    if node.right:\n",
        "      self.simetric_transversal(node.right)\n",
        "      print(')', end=' ')\n",
        ""
      ],
      "metadata": {
        "id": "vetsRVMec9Dj"
      },
      "execution_count": 13,
      "outputs": []
    },
    {
      "cell_type": "code",
      "source": [
        "if __name__ == \"__main__\":\n",
        "  tree = BinaryTree()\n",
        "  # a + (b * ( (c/d) - e) )\n",
        "  #Percurso em órdem simétrica\n",
        "\n",
        "  n1 = Node('a')\n",
        "  n2 = Node('+')\n",
        "  n3 = Node('*')\n",
        "  n4 = Node('b')\n",
        "  n5 = Node('-')\n",
        "  n6 = Node('/')\n",
        "  n7 = Node('c')\n",
        "  n8 = Node('d')\n",
        "  n9 = Node('e')\n",
        "\n",
        "  n6.left = n7\n",
        "  n6.right = n8\n",
        "  n5.left = n6\n",
        "  n5.right = n9\n",
        "  n3.left = n4\n",
        "  n3.right = n5\n",
        "  n2.left = n1\n",
        "  n2.right = n3\n",
        "\n",
        "  tree.root = n2\n",
        "\n",
        "  tree.simetric_transversal()\n",
        "\n",
        "   # a + (b * ( (c/d) - e) )"
      ],
      "metadata": {
        "colab": {
          "base_uri": "https://localhost:8080/"
        },
        "id": "5tT_rsJtdJym",
        "outputId": "ccf954b1-69dc-4560-e17a-da1feb750391"
      },
      "execution_count": 14,
      "outputs": [
        {
          "output_type": "stream",
          "name": "stdout",
          "text": [
            "( a + ( b * ( ( c / d ) - e ) ) ) "
          ]
        }
      ]
    }
  ]
}